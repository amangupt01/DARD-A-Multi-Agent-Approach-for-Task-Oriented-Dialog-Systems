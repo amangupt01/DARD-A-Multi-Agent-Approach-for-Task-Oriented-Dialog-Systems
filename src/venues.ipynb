{
 "cells": [
  {
   "cell_type": "code",
   "execution_count": 12,
   "metadata": {},
   "outputs": [],
   "source": [
    "import json\n",
    "import pandas as pd\n",
    "\n",
    "def get_df_from_path(path):\n",
    "    data_all = json.load(open(path, 'r'))\n",
    "    set_all_attr = set(data_all[0].keys())\n",
    "    assume_all_full = True\n",
    "    count_less = 0\n",
    "    for data in data_all:\n",
    "        if (len(set(data.keys())-set_all_attr) != 0):\n",
    "            assume_all_full = False\n",
    "            count_less += 1\n",
    "    if not assume_all_full:\n",
    "        print(path)\n",
    "        print(f'{count_less} these many instances have less attributes out of {len(data_all)}')\n",
    "    d = {}\n",
    "    for attr in set_all_attr:\n",
    "        d[attr] = []\n",
    "    for data in data_all:\n",
    "        for attr in set_all_attr:\n",
    "            if attr in data:\n",
    "                d[attr].append(data[attr])\n",
    "            else:\n",
    "                d[attr].append('None')\n",
    "    return pd.DataFrame(d)\n"
   ]
  },
  {
   "cell_type": "code",
   "execution_count": null,
   "metadata": {},
   "outputs": [],
   "source": [
    "## TODO: Change the path to the json files\n",
    "df_hotel = get_df_from_path('/path/to/hotel_db.json')\n",
    "df_attraction = get_df_from_path('/path/to/attraction_db.json')\n",
    "df_restaurant = get_df_from_path('/path/to/restaurant_db.json')\n",
    "df_train = get_df_from_path('/ path/to/train_db.json')"
   ]
  },
  {
   "cell_type": "code",
   "execution_count": null,
   "metadata": {},
   "outputs": [],
   "source": [
    "df_hotel.head()"
   ]
  },
  {
   "cell_type": "code",
   "execution_count": null,
   "metadata": {},
   "outputs": [],
   "source": [
    "df_restaurant.head()"
   ]
  },
  {
   "cell_type": "code",
   "execution_count": 11,
   "metadata": {},
   "outputs": [],
   "source": [
    "import sys\n",
    "sys.path.append(\"MultiWOZ_Evaluation/mwzeval/\")\n",
    "\n",
    "from normalization import normalize_state_slot_value, time_str_to_minutes\n"
   ]
  },
  {
   "cell_type": "code",
   "execution_count": 87,
   "metadata": {},
   "outputs": [],
   "source": [
    "import os\n",
    "import json\n",
    "from fuzzywuzzy import fuzz\n",
    "\n",
    "\n",
    "class MultiWOZVenueDatabase:\n",
    "    \n",
    "    IGNORE_VALUES = {\n",
    "        'attraction' : ['location', 'openhours'],\n",
    "        'hotel' : ['location', 'price', 'takesbookings'],\n",
    "        'restaurant' : ['location', 'introduction', 'signature']\n",
    "    }\n",
    "\n",
    "    FUZZY_KEYS = {\n",
    "        'hotel' : {'name'},\n",
    "        'attraction' : {'name'},\n",
    "        'restaurant' : {'name', 'food'},\n",
    "        'train' : {'departure', 'destination'}\n",
    "    }\n",
    "\n",
    "    def __init__(self):\n",
    "        self.data, self.data_keys = self._load_data()\n",
    "\n",
    "    def _load_data(self):\n",
    "\n",
    "        def normalize_column_name(name):\n",
    "            if name == \"id\":\n",
    "                return name\n",
    "            name = name.lower().replace(' ', '')\n",
    "            if name == \"arriveby\": return \"arrive\"\n",
    "            if name == \"leaveat\": return \"leave\"\n",
    "            return name\n",
    "\n",
    "        database_data, database_keys = {}, {}\n",
    "        \n",
    "        for domain in [\"restaurant\", \"attraction\", \"hotel\", \"train\"]:\n",
    "           \n",
    "            dir_path = 'MultiWOZ_Evaluation/mwzeval/'\n",
    "            with open(os.path.join(dir_path, \"data\", \"database\", f\"{domain}_db.json\"), \"r\") as f:\n",
    "                database_data[domain] = json.load(f)\n",
    "            \n",
    "            if domain in self.IGNORE_VALUES:\n",
    "                for i in database_data[domain]:\n",
    "                    for ignore in self.IGNORE_VALUES[domain]:\n",
    "                        if ignore in i:\n",
    "                            i.pop(ignore)\n",
    "\n",
    "            for i, database_item in enumerate(database_data[domain]):\n",
    "                database_data[domain][i] =  {normalize_column_name(k) : v for k, v in database_item.items()}\n",
    "            \n",
    "            database_keys[domain] = set(database_data[domain][0].keys())\n",
    "            \n",
    "        return database_data, database_keys\n",
    "\n",
    "    def query(self, domain, constraints, fuzzy_ratio=90):\n",
    "\n",
    "        # Hotel database keys:      address, area, name, phone, postcode, pricerange, type, internet, parking, stars (other are ignored)\n",
    "        # Attraction database keys: address, area, name, phone, postcode, pricerange, type, entrance fee (other are ignored)\n",
    "        # Restaurant database keys: address, area, name, phone, postcode, pricerange, type, food \n",
    "        # Train database contains keys: arriveby, departure, day, leaveat, destination, trainid, price, duration\n",
    "        \n",
    "        results = []\n",
    "        \n",
    "        if domain not in [\"hotel\", \"restaurant\", \"attraction\", \"train\"]:\n",
    "            return results\n",
    "        \n",
    "        query = {}\n",
    "        for key in self.data_keys[domain]:  \n",
    "            if key in constraints:\n",
    "                if constraints[key] in [\"dontcare\", \"not mentioned\", \"don't care\", \"dont care\", \"do n't care\", \"do not care\"]:\n",
    "                    continue\n",
    "                query[key] = normalize_state_slot_value(key, constraints[key])\n",
    "                if key in ['arrive', 'leave']:\n",
    "                    query[key] = time_str_to_minutes(query[key])\n",
    "            else:\n",
    "                query[key] = None\n",
    "\n",
    "        count = 0\n",
    "        saved_item = None           \n",
    "        for i, item in enumerate(self.data[domain]):\n",
    "            \n",
    "            for k, v in query.items():\n",
    "                if v is None or item[k] == '?':\n",
    "                    continue\n",
    "\n",
    "                if k == 'arrive':\n",
    "                    time = time_str_to_minutes(item[k]) \n",
    "                    if time > v:\n",
    "                        break\n",
    "                elif k == 'leave':\n",
    "                    time = time_str_to_minutes(item[k]) \n",
    "                    if time < v:\n",
    "                        break\n",
    "                else:\n",
    "                    if k in self.FUZZY_KEYS.get(domain, {}):\n",
    "                        f = (lambda x: fuzz.partial_ratio(item[k], x) < fuzzy_ratio)\n",
    "                    else:\n",
    "                        f = (lambda x: item[k] != x)\n",
    "                    if f(v):\n",
    "                        break\n",
    "            else:\n",
    "                count += 1\n",
    "                if domain == \"train\":\n",
    "                    results.append(item[\"trainid\"])\n",
    "                    if count == 1:\n",
    "                        saved_item = item\n",
    "                    if count <= 5:\n",
    "                        print(item['trainid'])\n",
    "                        for attr in item.keys():\n",
    "                            print (\"\\t\", attr, '-', item[attr])\n",
    "                        print()\n",
    "                else:\n",
    "                    results.append(item[\"id\"])\n",
    "                    if count == 1:\n",
    "                        saved_item = item\n",
    "                    if count <= 5:\n",
    "                        print(\"\\t\", \"<hotel>\")\n",
    "                        for attr in item.keys():\n",
    "                            print (\"\\t\", attr, '-',item[attr])\n",
    "                        print(\"\\t\", \"</hotel>\")\n",
    "                        print()\n",
    "        # print(\"Total number of results\", count)\n",
    "        return count, saved_item"
   ]
  },
  {
   "cell_type": "code",
   "execution_count": 88,
   "metadata": {},
   "outputs": [],
   "source": [
    "mwdb = MultiWOZVenueDatabase()"
   ]
  },
  {
   "cell_type": "code",
   "execution_count": null,
   "metadata": {},
   "outputs": [],
   "source": [
    "l = mwdb.query(\"train\", {}, fuzzy_ratio=90)\n",
    "print(l)"
   ]
  },
  {
   "cell_type": "code",
   "execution_count": null,
   "metadata": {},
   "outputs": [],
   "source": [
    "df_restaurant[df_restaurant['id'].isin(l)]"
   ]
  },
  {
   "cell_type": "code",
   "execution_count": 71,
   "metadata": {},
   "outputs": [],
   "source": [
    "import pickle\n",
    "with open(\"sav_text_prompts.pickle\", 'rb') as f:\n",
    "    test_data = pickle.load(f)\n"
   ]
  },
  {
   "cell_type": "code",
   "execution_count": null,
   "metadata": {},
   "outputs": [],
   "source": [
    "test_data.keys()"
   ]
  },
  {
   "cell_type": "code",
   "execution_count": 73,
   "metadata": {},
   "outputs": [],
   "source": [
    "dict_to_prompt = {}\n",
    "for i in range(len(test_data['diag_id'])):\n",
    "    if f\"{test_data['diag_id'][i].lower().split('.')[0]}_{test_data['conv_idx'][i]}\" not in dict_to_prompt:\n",
    "        dict_to_prompt[f\"{test_data['diag_id'][i].lower().split('.')[0]}_{test_data['conv_idx'][i]}\"] = test_data['prompts'][i]"
   ]
  },
  {
   "cell_type": "code",
   "execution_count": null,
   "metadata": {},
   "outputs": [],
   "source": [
    "dict_to_prompt"
   ]
  },
  {
   "cell_type": "code",
   "execution_count": 75,
   "metadata": {},
   "outputs": [],
   "source": [
    "import json\n",
    "# Change the path to the predictions.json file\n",
    "pred_path = \"/path/to/predictions.json\"\n",
    "\n",
    "with open(pred_path, 'r') as f:\n",
    "    pred_data = json.load(f)"
   ]
  },
  {
   "cell_type": "code",
   "execution_count": 76,
   "metadata": {},
   "outputs": [],
   "source": [
    "def get_domain_estimates_from_state(data):\n",
    "\n",
    "    for dialog in data.values():\n",
    "\n",
    "        # Use an approximation of the current domain because the slot names used for delexicalization do not contain any\n",
    "        # information about the domain they belong to. However, it is likely that the system talks about the same domain\n",
    "        # as the domain that recently changed in the dialog state (which should be probably used for the possible lexicalization). \n",
    "        # Moreover, the usage of the domain removes a very strong assumption done in the original evaluation script assuming that \n",
    "        # all requestable slots are mentioned only and exactly for one domain (through the whole dialog).\n",
    "\n",
    "        current_domain = None\n",
    "        old_state = {}\n",
    "        old_changed_domains = []\n",
    "\n",
    "        for turn in dialog:\n",
    " \n",
    "            # Find all domains that changed, i.e. their set of slot name, slot value pairs changed.\n",
    "            changed_domains = []\n",
    "            for domain in turn[\"state\"]:\n",
    "                domain_state_difference = set(turn[\"state\"].get(domain, {}).items()) - set(old_state.get(domain, {}).items())\n",
    "                if len(domain_state_difference) > 0:\n",
    "                    changed_domains.append(domain)\n",
    "\n",
    "            # Update the current domain with the domain whose state currently changed, if multiple domains were changed then:\n",
    "            # - if the old current domain also changed, let the current domain be\n",
    "            # - if the old current domain did not change, overwrite it with the changed domain with most filled slots\n",
    "            # - if there were multiple domains in the last turn and we kept the old current domain & there are currently no changed domains, use the other old domain\n",
    "            if len(changed_domains) == 0:\n",
    "                if current_domain is None:\n",
    "                    turn[\"active_domains\"] = []\n",
    "                    continue \n",
    "                else:\n",
    "                    if len(old_changed_domains) > 1:\n",
    "                        old_changed_domains = [x for x in old_changed_domains if x in turn[\"state\"] and x != current_domain]\n",
    "                        if len(old_changed_domains) > 0:\n",
    "                            current_domain = old_changed_domains[0] \n",
    "\n",
    "            elif current_domain not in changed_domains:\n",
    "                current_domain = max(changed_domains, key=lambda x: len(turn[\"state\"][x]))\n",
    "\n",
    "            old_state = turn[\"state\"]\n",
    "            old_changed_domains = changed_domains\n",
    "            \n",
    "            turn[\"active_domains\"] = [current_domain]\n",
    "\n",
    "\n",
    "get_domain_estimates_from_state(pred_data)\n",
    "\n"
   ]
  },
  {
   "cell_type": "code",
   "execution_count": 77,
   "metadata": {},
   "outputs": [],
   "source": [
    "# read_ground_truth\n",
    "gt_response = json.load(open('MultiWOZ_Evaluation/mwzeval/data/references/mwz22.json', 'r'))"
   ]
  },
  {
   "cell_type": "code",
   "execution_count": null,
   "metadata": {},
   "outputs": [],
   "source": [
    "gt_response"
   ]
  },
  {
   "cell_type": "code",
   "execution_count": null,
   "metadata": {},
   "outputs": [],
   "source": [
    "for diag_id in pred_data:\n",
    "    for i in range(len(pred_data[diag_id])):\n",
    "        if len(pred_data[diag_id][i]['active_domains']) > 0 and pred_data[diag_id][i]['active_domains'][0] in ['restaurant']:\n",
    "            print(\"==\"*20)\n",
    "            print(\"Active:\",pred_data[diag_id][i]['active_domains'][0])\n",
    "            print(diag_id, i)\n",
    "            print(\"Inputs:\")\n",
    "            print(dict_to_prompt[f\"{diag_id}_{i+1}\"])\n",
    "            print(\"Outputs:\")\n",
    "            print(gt_response[diag_id][i])\n",
    "            if pred_data[diag_id][i]['active_domains'][0] in pred_data[diag_id][i]['state']:\n",
    "                search_state = {}\n",
    "                fuzz_ratio = 90\n",
    "                ## Make this on only for restaurants\n",
    "                # if 'name' in pred_data[diag_id][i]['state'][pred_data[diag_id][i]['active_domains'][0]]:\n",
    "                #     search_state = {'name': pred_data[diag_id][i]['state'][pred_data[diag_id][i]['active_domains'][0]]['name'].replace('b and b', 'bed and breakfast')}\n",
    "                #     fuzz_ratio = 75\n",
    "                # else:\n",
    "                search_state = pred_data[diag_id][i]['state'][pred_data[diag_id][i]['active_domains'][0]]\n",
    "                print(search_state)\n",
    "                temp_num, _ = mwdb.query(pred_data[diag_id][i]['active_domains'][0], search_state, fuzzy_ratio=fuzz_ratio)\n",
    "                print(\"Number of venus:\", temp_num)\n",
    "                category = \"\"\n",
    "                if temp_num >= 10:\n",
    "                    category = \"BIG\"\n",
    "                elif temp_num >= 5:\n",
    "                    category = \"MEDIUM\"\n",
    "                elif temp_num > 1:\n",
    "                    category = \"SMALL\"\n",
    "                suggestion_made = False\n",
    "                if \"NAME\" in gt_response[diag_id][i] or \"TRAINID\" in gt_response[diag_id][i]:\n",
    "                    suggestion_made = True\n",
    "                \n",
    "                if not suggestion_made:\n",
    "                    print(f\"{category}, without suggestion\")\n",
    "                else:\n",
    "                    print(f\"{category}, with suggestion\")\n"
   ]
  },
  {
   "cell_type": "code",
   "execution_count": 98,
   "metadata": {},
   "outputs": [],
   "source": [
    "# generate the restaurant test data with updated information\n",
    "import pandas as pd\n",
    "domain_create_test = 'taxi'\n",
    "df_test_rest = pd.read_excel(f'domain_agents/{domain_create_test}/{domain_create_test}_test.xlsx')"
   ]
  },
  {
   "cell_type": "code",
   "execution_count": null,
   "metadata": {},
   "outputs": [],
   "source": [
    "df_test_rest.head()"
   ]
  },
  {
   "cell_type": "code",
   "execution_count": 100,
   "metadata": {},
   "outputs": [],
   "source": [
    "updated_prompts = []\n",
    "for ittr, row in df_test_rest.iterrows():\n",
    "    # print(row['prompts'])\n",
    "    diag_id_converted = row['diag_id'].split('.')[0].lower()\n",
    "    utter_id = row['conv_idx'] - 1\n",
    "    ###TAXI\n",
    "    convereted_prompt = row['prompts'] + \"\\n\"\n",
    "    # if domain_create_test in pred_data[diag_id_converted][utter_id]['state']:\n",
    "    #     search_state = {}\n",
    "    #     fuzz_ratio = 90\n",
    "    #     # if 'name' in pred_data[diag_id_converted][utter_id]['state'][domain_create_test]:\n",
    "    #     #     search_state = {'name': pred_data[diag_id_converted][utter_id]['state'][domain_create_test]['name'].replace('b and b', 'bed and breakfast')}\n",
    "    #     #     fuzz_ratio = 75\n",
    "    #     # else:\n",
    "    #     search_state = pred_data[diag_id_converted][utter_id]['state'][domain_create_test]\n",
    "    #     num_venues, first_venue = mwdb.query(domain_create_test, search_state, fuzzy_ratio=fuzz_ratio)\n",
    "    #     # print(num_venues, first_venue)\n",
    "    #     # print(pred_data[diag_id_converted][utter_id]['state']['restaurant'])\n",
    "    #     convereted_prompt = row['prompts']\n",
    "    #     convereted_prompt += f\"\\nNumber of {domain_create_test}s that meet the user's criteria: {num_venues}\\n\"\n",
    "    #     if first_venue is not None:\n",
    "    #         convereted_prompt += \"One of them is the following:\\n\"\n",
    "    #         convereted_prompt += f\"\\t <{domain_create_test}> \\n\"\n",
    "    #         for key, value in first_venue.items():\n",
    "    #             convereted_prompt += f\"\\t {key} - {value}\\n\"\n",
    "    #         convereted_prompt += f\"\\t </{domain_create_test}>\\n\"\n",
    "    #     else:\n",
    "    #         convereted_prompt += \"One of them is the following:\\n\"\n",
    "    # else:\n",
    "    #     num_venues, first_venue = mwdb.query(domain_create_test, {})\n",
    "\n",
    "    #     convereted_prompt = row['prompts']\n",
    "    #     convereted_prompt += f\"\\nNumber of {domain_create_test}s that meet the user's criteria: {num_venues}\\n\"\n",
    "    #     if first_venue is not None:\n",
    "    #         convereted_prompt += \"One of them is the following:\\n\"\n",
    "    #         convereted_prompt += f\"\\t <{domain_create_test}> \\n\"\n",
    "    #         for key, value in first_venue.items():\n",
    "    #             convereted_prompt += f\"\\t {key} - {value}\\n\"\n",
    "    #         convereted_prompt += f\"\\t </{domain_create_test}>\\n\"\n",
    "    #     else:\n",
    "    #         convereted_prompt += \"One of them is the following:\\n\"\n",
    "    \n",
    "    updated_prompts.append(convereted_prompt)\n",
    "\n",
    "\n",
    "\n",
    "    "
   ]
  },
  {
   "cell_type": "code",
   "execution_count": null,
   "metadata": {},
   "outputs": [],
   "source": [
    "for p in updated_prompts:\n",
    "    print(p)\n",
    "    print(\"====\"*20)"
   ]
  },
  {
   "cell_type": "code",
   "execution_count": 102,
   "metadata": {},
   "outputs": [],
   "source": [
    "df_test_rest_updated = df_test_rest.copy()\n",
    "df_test_rest_updated['prompts'] = updated_prompts\n"
   ]
  },
  {
   "cell_type": "code",
   "execution_count": 103,
   "metadata": {},
   "outputs": [],
   "source": [
    "df_test_rest_updated.to_excel(f'domain_agents/{domain_create_test}/{domain_create_test}_test_updated.xlsx')"
   ]
  }
 ],
 "metadata": {
  "kernelspec": {
   "display_name": "work",
   "language": "python",
   "name": "python3"
  },
  "language_info": {
   "codemirror_mode": {
    "name": "ipython",
    "version": 3
   },
   "file_extension": ".py",
   "mimetype": "text/x-python",
   "name": "python",
   "nbconvert_exporter": "python",
   "pygments_lexer": "ipython3",
   "version": "3.10.14"
  }
 },
 "nbformat": 4,
 "nbformat_minor": 2
}
